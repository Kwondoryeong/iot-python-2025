{
 "cells": [
  {
   "cell_type": "markdown",
   "metadata": {},
   "source": [
    "# 1"
   ]
  },
  {
   "cell_type": "code",
   "execution_count": null,
   "metadata": {},
   "outputs": [
    {
     "name": "stdout",
     "output_type": "stream",
     "text": [
      "28.274328\n"
     ]
    }
   ],
   "source": [
    "def diameter(r):\n",
    "    pi = 3.141592\n",
    "    result = r * r * pi\n",
    "    \n",
    "    return result\n",
    "\n",
    "try:\n",
    "    radi = float(input('반지름 값을 입력하세요 > '))\n",
    "    print(diameter(radi))\n",
    "except Exception as e:\n",
    "    print(e,'\\n','숫자를 입력하세요')\n"
   ]
  },
  {
   "cell_type": "markdown",
   "metadata": {},
   "source": [
    "# 2"
   ]
  },
  {
   "cell_type": "code",
   "execution_count": null,
   "metadata": {},
   "outputs": [
    {
     "name": "stdout",
     "output_type": "stream",
     "text": [
      "www.google.com\n"
     ]
    }
   ],
   "source": [
    "\n",
    "def get_url(url_addr):\n",
    "    head = 'www.'\n",
    "    tail = '.com'\n",
    "\n",
    "    result = head + url_addr + tail\n",
    "    \n",
    "    return result\n",
    "\n",
    "url_addr = input('영문 웹사이트를 입력하세요(\"google\") > ')\n",
    "url = get_url(url_addr)\n",
    "print(url)    "
   ]
  },
  {
   "cell_type": "markdown",
   "metadata": {},
   "source": [
    "# 3"
   ]
  },
  {
   "cell_type": "code",
   "execution_count": 163,
   "metadata": {},
   "outputs": [
    {
     "name": "stdout",
     "output_type": "stream",
     "text": [
      "8 16 24 32 40 48 56 64 72 "
     ]
    }
   ],
   "source": [
    "def gugudan():\n",
    "    num = int(input('수행할 구구단 번호를 입력하세요 > '))\n",
    "\n",
    "    for i in range (1, 9 + 1):\n",
    "        print(num * i, end=' ')\n",
    "    \n",
    "try:\n",
    "   gugudan()\n",
    "\n",
    "except Exception as e:\n",
    "    print('정수를 입력하세요')\n",
    "    "
   ]
  },
  {
   "cell_type": "markdown",
   "metadata": {},
   "source": [
    "# 4"
   ]
  },
  {
   "cell_type": "code",
   "execution_count": null,
   "metadata": {},
   "outputs": [
    {
     "name": "stdout",
     "output_type": "stream",
     "text": [
      "@ 1 @ @ "
     ]
    }
   ],
   "source": [
    "def str_rev(num):\n",
    "    for i in range(len(num) - 1, 0 - 1, -1):\n",
    "        print(num[i], end=' ')\n",
    "\n",
    "num = input('거꾸로 출력할 수를 입력하세요(1 2 3) > ').split(' ')\n",
    "str_rev(num)\n"
   ]
  },
  {
   "cell_type": "markdown",
   "metadata": {},
   "source": [
    "# 5"
   ]
  },
  {
   "cell_type": "code",
   "execution_count": 162,
   "metadata": {},
   "outputs": [
    {
     "name": "stdout",
     "output_type": "stream",
     "text": [
      "소유자: 권도형, 번호: 010-1233-3333, 제조사: 삼성, 가격: 12300\n"
     ]
    }
   ],
   "source": [
    "class SmartPhone:\n",
    "    def __init__(self, phoneOwner, phoneNumber, company, price):\n",
    "        self.__phoneOwner = phoneOwner\n",
    "        self.__phoneNumber = phoneNumber\n",
    "        self.__company = company\n",
    "        self.__price = price\n",
    " \n",
    "\n",
    "    def __str__(self):\n",
    "        str_res = f'소유자: {self.__phoneOwner}, 번호: {self.__phoneNumber}, 제조사: {self.__company}, 가격: {self.__price}'\n",
    "        return str_res\n",
    "\n",
    "if __name__ == '__main__':\n",
    "    # phoneOwner, phoneNumber, company, price = input(f'소유자, 번호, 제조사, 가격(\" \"구분) > ').split(' ')\n",
    "    phoneOwner, phoneNumber, company, price = '권도형', '010-1233-3333', '삼성', '12300'\n",
    "    myphone = SmartPhone(phoneOwner, phoneNumber, company, price)\n",
    "    print(myphone)"
   ]
  }
 ],
 "metadata": {
  "kernelspec": {
   "display_name": "Python 3",
   "language": "python",
   "name": "python3"
  },
  "language_info": {
   "codemirror_mode": {
    "name": "ipython",
    "version": 3
   },
   "file_extension": ".py",
   "mimetype": "text/x-python",
   "name": "python",
   "nbconvert_exporter": "python",
   "pygments_lexer": "ipython3",
   "version": "3.11.9"
  }
 },
 "nbformat": 4,
 "nbformat_minor": 2
}
